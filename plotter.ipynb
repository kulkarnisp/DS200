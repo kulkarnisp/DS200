{
 "cells": [
  {
   "cell_type": "markdown",
   "metadata": {},
   "source": [
    "Source code for creating bar and scatter plots"
   ]
  },
  {
   "cell_type": "markdown",
   "metadata": {},
   "source": [
    "Data source are:\n",
    "\n",
    "- Land utilisation in Maharashtra\n",
    "\n",
    "https://data.gov.in/resources/houseless-households-household-size-2001-maharashtra\n",
    "\n",
    "- Mansoon rain fall in central region (Maharashtra)\n",
    "\n",
    "https://data.gov.in/resources/rainfall-south-peninsula-10-subdivisions-and-its-departure-normal-monsoon-session-june-0\n",
    "\n"
   ]
  },
  {
   "cell_type": "code",
   "execution_count": 32,
   "metadata": {},
   "outputs": [],
   "source": [
    "import numpy as np\n",
    "import pandas as pd\n",
    "import matplotlib.pyplot as plt"
   ]
  },
  {
   "cell_type": "code",
   "execution_count": 5,
   "metadata": {},
   "outputs": [],
   "source": [
    "rain = pd.read_csv('DS200/data/central-India_rainfall_act_dep_1901_2016.csv')\n",
    "\n",
    "auto = pd.read_csv('DS200/data/Table-20.6-All_India_SYB2016_1.csv')\n",
    "\n",
    "home = pd.read_csv('DS200/data/datafile_maharashtra.csv')\n"
   ]
  },
  {
   "cell_type": "markdown",
   "metadata": {},
   "source": [
    "## Bar Plot"
   ]
  },
  {
   "cell_type": "code",
   "execution_count": 10,
   "metadata": {},
   "outputs": [
    {
     "data": {
      "text/html": [
       "<div>\n",
       "<style scoped>\n",
       "    .dataframe tbody tr th:only-of-type {\n",
       "        vertical-align: middle;\n",
       "    }\n",
       "\n",
       "    .dataframe tbody tr th {\n",
       "        vertical-align: top;\n",
       "    }\n",
       "\n",
       "    .dataframe thead th {\n",
       "        text-align: right;\n",
       "    }\n",
       "</style>\n",
       "<table border=\"1\" class=\"dataframe\">\n",
       "  <thead>\n",
       "    <tr style=\"text-align: right;\">\n",
       "      <th></th>\n",
       "      <th>Land Use</th>\n",
       "      <th>Area (in thousands) (ha)</th>\n",
       "      <th>Percentage</th>\n",
       "      <th>Unnamed: 3</th>\n",
       "    </tr>\n",
       "  </thead>\n",
       "  <tbody>\n",
       "    <tr>\n",
       "      <th>0</th>\n",
       "      <td>Total geographical area</td>\n",
       "      <td>30771</td>\n",
       "      <td>NaN</td>\n",
       "      <td>NaN</td>\n",
       "    </tr>\n",
       "    <tr>\n",
       "      <th>1</th>\n",
       "      <td>Reporting area for land utilization</td>\n",
       "      <td>30758</td>\n",
       "      <td>100.00</td>\n",
       "      <td>NaN</td>\n",
       "    </tr>\n",
       "    <tr>\n",
       "      <th>2</th>\n",
       "      <td>Forests</td>\n",
       "      <td>5213</td>\n",
       "      <td>16.95</td>\n",
       "      <td>NaN</td>\n",
       "    </tr>\n",
       "    <tr>\n",
       "      <th>3</th>\n",
       "      <td>Not available for cultivation</td>\n",
       "      <td>3151</td>\n",
       "      <td>10.24</td>\n",
       "      <td>NaN</td>\n",
       "    </tr>\n",
       "    <tr>\n",
       "      <th>4</th>\n",
       "      <td>Permanent pastures and other grazing lands</td>\n",
       "      <td>1246</td>\n",
       "      <td>4.05</td>\n",
       "      <td>NaN</td>\n",
       "    </tr>\n",
       "    <tr>\n",
       "      <th>5</th>\n",
       "      <td>land under misc. tree crops and groves</td>\n",
       "      <td>248</td>\n",
       "      <td>0.81</td>\n",
       "      <td>NaN</td>\n",
       "    </tr>\n",
       "    <tr>\n",
       "      <th>6</th>\n",
       "      <td>Culturable wasteland</td>\n",
       "      <td>917</td>\n",
       "      <td>2.98</td>\n",
       "      <td>NaN</td>\n",
       "    </tr>\n",
       "    <tr>\n",
       "      <th>7</th>\n",
       "      <td>Fallow lands other than current fallows</td>\n",
       "      <td>1187</td>\n",
       "      <td>3.86</td>\n",
       "      <td>NaN</td>\n",
       "    </tr>\n",
       "    <tr>\n",
       "      <th>8</th>\n",
       "      <td>Current fallows</td>\n",
       "      <td>1370</td>\n",
       "      <td>4.45</td>\n",
       "      <td>NaN</td>\n",
       "    </tr>\n",
       "  </tbody>\n",
       "</table>\n",
       "</div>"
      ],
      "text/plain": [
       "                                     Land Use  Area (in thousands) (ha)  \\\n",
       "0                     Total geographical area                     30771   \n",
       "1         Reporting area for land utilization                     30758   \n",
       "2                                     Forests                      5213   \n",
       "3               Not available for cultivation                      3151   \n",
       "4  Permanent pastures and other grazing lands                      1246   \n",
       "5      land under misc. tree crops and groves                       248   \n",
       "6                        Culturable wasteland                       917   \n",
       "7     Fallow lands other than current fallows                      1187   \n",
       "8                             Current fallows                      1370   \n",
       "\n",
       "   Percentage  Unnamed: 3  \n",
       "0         NaN         NaN  \n",
       "1      100.00         NaN  \n",
       "2       16.95         NaN  \n",
       "3       10.24         NaN  \n",
       "4        4.05         NaN  \n",
       "5        0.81         NaN  \n",
       "6        2.98         NaN  \n",
       "7        3.86         NaN  \n",
       "8        4.45         NaN  "
      ]
     },
     "execution_count": 10,
     "metadata": {},
     "output_type": "execute_result"
    }
   ],
   "source": [
    "home"
   ]
  },
  {
   "cell_type": "code",
   "execution_count": 12,
   "metadata": {},
   "outputs": [
    {
     "data": {
      "text/plain": [
       "<matplotlib.axes._subplots.AxesSubplot at 0x7f38bc075550>"
      ]
     },
     "execution_count": 12,
     "metadata": {},
     "output_type": "execute_result"
    },
    {
     "data": {
      "image/png": "[encoded data removed]",
      "text/plain": [
       "<Figure size 432x288 with 1 Axes>"
      ]
     },
     "metadata": {},
     "output_type": "display_data"
    }
   ],
   "source": [
    "home.plot(kind=\"bar\",x=\"Land Use\",y=\"Area (in thousands) (ha)\")\n",
    "plt.savefig(\"\")"
   ]
  },
  {
   "cell_type": "markdown",
   "metadata": {},
   "source": [
    "## Scatter Plot"
   ]
  },
  {
   "cell_type": "code",
   "execution_count": 14,
   "metadata": {},
   "outputs": [
    {
     "data": {
      "text/html": [
       "<div>\n",
       "<style scoped>\n",
       "    .dataframe tbody tr th:only-of-type {\n",
       "        vertical-align: middle;\n",
       "    }\n",
       "\n",
       "    .dataframe tbody tr th {\n",
       "        vertical-align: top;\n",
       "    }\n",
       "\n",
       "    .dataframe thead th {\n",
       "        text-align: right;\n",
       "    }\n",
       "</style>\n",
       "<table border=\"1\" class=\"dataframe\">\n",
       "  <thead>\n",
       "    <tr style=\"text-align: right;\">\n",
       "      <th></th>\n",
       "      <th>YEAR</th>\n",
       "      <th>Actual Rainfall: JUN</th>\n",
       "      <th>Actual Rainfall: JUL</th>\n",
       "      <th>Actual Rainfall: AUG</th>\n",
       "      <th>Actual Rainfall: SEPT</th>\n",
       "      <th>Actual Rainfall: JUN-SEPT</th>\n",
       "      <th>Departure Percentage: JUN</th>\n",
       "      <th>Departure Percentage: JUL</th>\n",
       "      <th>Departure Percentage: AUG</th>\n",
       "      <th>Departure Percentage: SEP</th>\n",
       "      <th>Departure Percentage: JUN-SEPT</th>\n",
       "    </tr>\n",
       "  </thead>\n",
       "  <tbody>\n",
       "    <tr>\n",
       "      <th>0</th>\n",
       "      <td>1901</td>\n",
       "      <td>99.3</td>\n",
       "      <td>295.4</td>\n",
       "      <td>354.8</td>\n",
       "      <td>113.8</td>\n",
       "      <td>863.3</td>\n",
       "      <td>-39.6</td>\n",
       "      <td>-16.0</td>\n",
       "      <td>26.4</td>\n",
       "      <td>-38.5</td>\n",
       "      <td>-12.1</td>\n",
       "    </tr>\n",
       "    <tr>\n",
       "      <th>1</th>\n",
       "      <td>1902</td>\n",
       "      <td>62.3</td>\n",
       "      <td>334.2</td>\n",
       "      <td>237.6</td>\n",
       "      <td>216.0</td>\n",
       "      <td>850.0</td>\n",
       "      <td>-62.4</td>\n",
       "      <td>-4.8</td>\n",
       "      <td>-15.1</td>\n",
       "      <td>16.8</td>\n",
       "      <td>-13.4</td>\n",
       "    </tr>\n",
       "    <tr>\n",
       "      <th>2</th>\n",
       "      <td>1903</td>\n",
       "      <td>96.2</td>\n",
       "      <td>392.7</td>\n",
       "      <td>286.6</td>\n",
       "      <td>211.5</td>\n",
       "      <td>987.1</td>\n",
       "      <td>-42.7</td>\n",
       "      <td>11.0</td>\n",
       "      <td>2.1</td>\n",
       "      <td>13.1</td>\n",
       "      <td>-0.3</td>\n",
       "    </tr>\n",
       "    <tr>\n",
       "      <th>3</th>\n",
       "      <td>1904</td>\n",
       "      <td>180.5</td>\n",
       "      <td>259.1</td>\n",
       "      <td>200.9</td>\n",
       "      <td>165.8</td>\n",
       "      <td>806.3</td>\n",
       "      <td>7.5</td>\n",
       "      <td>-26.4</td>\n",
       "      <td>-28.1</td>\n",
       "      <td>-11.2</td>\n",
       "      <td>-18.2</td>\n",
       "    </tr>\n",
       "    <tr>\n",
       "      <th>4</th>\n",
       "      <td>1905</td>\n",
       "      <td>59.8</td>\n",
       "      <td>340.6</td>\n",
       "      <td>178.9</td>\n",
       "      <td>204.1</td>\n",
       "      <td>783.4</td>\n",
       "      <td>-64.4</td>\n",
       "      <td>-3.2</td>\n",
       "      <td>-36.0</td>\n",
       "      <td>9.5</td>\n",
       "      <td>-20.5</td>\n",
       "    </tr>\n",
       "    <tr>\n",
       "      <th>...</th>\n",
       "      <td>...</td>\n",
       "      <td>...</td>\n",
       "      <td>...</td>\n",
       "      <td>...</td>\n",
       "      <td>...</td>\n",
       "      <td>...</td>\n",
       "      <td>...</td>\n",
       "      <td>...</td>\n",
       "      <td>...</td>\n",
       "      <td>...</td>\n",
       "      <td>...</td>\n",
       "    </tr>\n",
       "    <tr>\n",
       "      <th>111</th>\n",
       "      <td>2012</td>\n",
       "      <td>99.3</td>\n",
       "      <td>311.9</td>\n",
       "      <td>305.5</td>\n",
       "      <td>218.2</td>\n",
       "      <td>934.9</td>\n",
       "      <td>-39.5</td>\n",
       "      <td>-3.9</td>\n",
       "      <td>0.1</td>\n",
       "      <td>20.3</td>\n",
       "      <td>-4.1</td>\n",
       "    </tr>\n",
       "    <tr>\n",
       "      <th>112</th>\n",
       "      <td>2013</td>\n",
       "      <td>275.9</td>\n",
       "      <td>437.6</td>\n",
       "      <td>299.2</td>\n",
       "      <td>180.7</td>\n",
       "      <td>1193.4</td>\n",
       "      <td>68.1</td>\n",
       "      <td>34.8</td>\n",
       "      <td>-2.0</td>\n",
       "      <td>-0.4</td>\n",
       "      <td>22.4</td>\n",
       "    </tr>\n",
       "    <tr>\n",
       "      <th>113</th>\n",
       "      <td>2014</td>\n",
       "      <td>64.6</td>\n",
       "      <td>358.5</td>\n",
       "      <td>256.4</td>\n",
       "      <td>201.1</td>\n",
       "      <td>880.5</td>\n",
       "      <td>-60.6</td>\n",
       "      <td>10.6</td>\n",
       "      <td>-15.9</td>\n",
       "      <td>11.0</td>\n",
       "      <td>-9.6</td>\n",
       "    </tr>\n",
       "    <tr>\n",
       "      <th>114</th>\n",
       "      <td>2015</td>\n",
       "      <td>204.5</td>\n",
       "      <td>267.9</td>\n",
       "      <td>204.8</td>\n",
       "      <td>141.8</td>\n",
       "      <td>818.9</td>\n",
       "      <td>24.4</td>\n",
       "      <td>-17.5</td>\n",
       "      <td>-32.9</td>\n",
       "      <td>-21.8</td>\n",
       "      <td>-16.0</td>\n",
       "    </tr>\n",
       "    <tr>\n",
       "      <th>115</th>\n",
       "      <td>2016</td>\n",
       "      <td>137.3</td>\n",
       "      <td>382.9</td>\n",
       "      <td>320.9</td>\n",
       "      <td>194.6</td>\n",
       "      <td>1035.6</td>\n",
       "      <td>-16.4</td>\n",
       "      <td>17.9</td>\n",
       "      <td>5.2</td>\n",
       "      <td>7.3</td>\n",
       "      <td>6.2</td>\n",
       "    </tr>\n",
       "  </tbody>\n",
       "</table>\n",
       "<p>116 rows × 11 columns</p>\n",
       "</div>"
      ],
      "text/plain": [
       "     YEAR  Actual Rainfall: JUN  Actual Rainfall: JUL  Actual Rainfall: AUG  \\\n",
       "0    1901                  99.3                 295.4                 354.8   \n",
       "1    1902                  62.3                 334.2                 237.6   \n",
       "2    1903                  96.2                 392.7                 286.6   \n",
       "3    1904                 180.5                 259.1                 200.9   \n",
       "4    1905                  59.8                 340.6                 178.9   \n",
       "..    ...                   ...                   ...                   ...   \n",
       "111  2012                  99.3                 311.9                 305.5   \n",
       "112  2013                 275.9                 437.6                 299.2   \n",
       "113  2014                  64.6                 358.5                 256.4   \n",
       "114  2015                 204.5                 267.9                 204.8   \n",
       "115  2016                 137.3                 382.9                 320.9   \n",
       "\n",
       "     Actual Rainfall: SEPT  Actual Rainfall: JUN-SEPT  \\\n",
       "0                    113.8                      863.3   \n",
       "1                    216.0                      850.0   \n",
       "2                    211.5                      987.1   \n",
       "3                    165.8                      806.3   \n",
       "4                    204.1                      783.4   \n",
       "..                     ...                        ...   \n",
       "111                  218.2                      934.9   \n",
       "112                  180.7                     1193.4   \n",
       "113                  201.1                      880.5   \n",
       "114                  141.8                      818.9   \n",
       "115                  194.6                     1035.6   \n",
       "\n",
       "     Departure Percentage: JUN  Departure Percentage: JUL  \\\n",
       "0                        -39.6                      -16.0   \n",
       "1                        -62.4                       -4.8   \n",
       "2                        -42.7                       11.0   \n",
       "3                          7.5                      -26.4   \n",
       "4                        -64.4                       -3.2   \n",
       "..                         ...                        ...   \n",
       "111                      -39.5                       -3.9   \n",
       "112                       68.1                       34.8   \n",
       "113                      -60.6                       10.6   \n",
       "114                       24.4                      -17.5   \n",
       "115                      -16.4                       17.9   \n",
       "\n",
       "     Departure Percentage: AUG  Departure Percentage: SEP  \\\n",
       "0                         26.4                      -38.5   \n",
       "1                        -15.1                       16.8   \n",
       "2                          2.1                       13.1   \n",
       "3                        -28.1                      -11.2   \n",
       "4                        -36.0                        9.5   \n",
       "..                         ...                        ...   \n",
       "111                        0.1                       20.3   \n",
       "112                       -2.0                       -0.4   \n",
       "113                      -15.9                       11.0   \n",
       "114                      -32.9                      -21.8   \n",
       "115                        5.2                        7.3   \n",
       "\n",
       "     Departure Percentage: JUN-SEPT  \n",
       "0                             -12.1  \n",
       "1                             -13.4  \n",
       "2                              -0.3  \n",
       "3                             -18.2  \n",
       "4                             -20.5  \n",
       "..                              ...  \n",
       "111                            -4.1  \n",
       "112                            22.4  \n",
       "113                            -9.6  \n",
       "114                           -16.0  \n",
       "115                             6.2  \n",
       "\n",
       "[116 rows x 11 columns]"
      ]
     },
     "execution_count": 14,
     "metadata": {},
     "output_type": "execute_result"
    }
   ],
   "source": [
    "rain"
   ]
  },
  {
   "cell_type": "code",
   "execution_count": 18,
   "metadata": {
    "scrolled": true
   },
   "outputs": [
    {
     "data": {
      "text/plain": [
       "<matplotlib.axes._subplots.AxesSubplot at 0x7f38b593fee0>"
      ]
     },
     "execution_count": 18,
     "metadata": {},
     "output_type": "execute_result"
    },
    {
     "data": {
      "image/png": "[encoded data removed]",
      "text/plain": [
       "<Figure size 432x288 with 1 Axes>"
      ]
     },
     "metadata": {},
     "output_type": "display_data"
    }
   ],
   "source": [
    "rain.plot(kind=\"scatter\",x=\"Actual Rainfall: JUN\",y=\"Actual Rainfall: JUL\",c='b')"
   ]
  },
  {
   "cell_type": "markdown",
   "metadata": {},
   "source": [
    "## Box Plot"
   ]
  },
  {
   "cell_type": "code",
   "execution_count": 29,
   "metadata": {},
   "outputs": [],
   "source": [
    "src = [c for c in rain.columns if \"Actual\" in c]\n",
    "labels = [s.split(\":\")[-1] for s in src]"
   ]
  },
  {
   "cell_type": "code",
   "execution_count": 33,
   "metadata": {
    "scrolled": true
   },
   "outputs": [
    {
     "data": {
      "text/plain": [
       "Text(0, 0.5, 'Actual Rainfall in mm')"
      ]
     },
     "execution_count": 33,
     "metadata": {},
     "output_type": "execute_result"
    },
    {
     "data": {
      "image/png": "[encoded data removed]",
      "text/plain": [
       "<Figure size 432x288 with 1 Axes>"
      ]
     },
     "metadata": {},
     "output_type": "display_data"
    }
   ],
   "source": [
    "rain.plot(y=src,label=labels,\n",
    "         kind=\"box\")\n",
    "plt.xlabel(\"Rainfall month\")\n",
    "plt.ylabel(\"Actual Rainfall in mm\")"
   ]
  },
  {
   "cell_type": "markdown",
   "metadata": {},
   "source": [
    "## Appendix"
   ]
  },
  {
   "cell_type": "markdown",
   "metadata": {},
   "source": [
    "Other Data source are:\n",
    "\n",
    "\n",
    "- Mansoon rain fall in central region (Maharashtra)\n",
    "\n",
    "https://data.gov.in/resources/rainfall-south-peninsula-10-subdivisions-and-its-departure-normal-monsoon-session-june-0\n",
    "\n",
    "- Houseless households in Maharashtra\n",
    "\n",
    "https://data.gov.in/resources/houseless-households-household-size-2001-maharashtra\n",
    "\n",
    "- Vehical production dataset\n",
    "\n",
    "https://data.gov.in/resources/category-wise-all-india-automobile-production-2001-02-2014-15\n",
    "\n",
    "- Number of primary schools \n",
    "\n",
    "https://data.gov.in/resources/digital-payment-transactions-2016-17-2018-19-ministry-electronics-and-information\n",
    "\n",
    "- Digital payments records\n",
    "\n",
    "https://data.gov.in/resources/digital-payment-transactions-2016-17-2018-19-ministry-electronics-and-information\n",
    "\n",
    "- Payment medium records; in Rajya sabha\n",
    "\n",
    "https://data.gov.in/resources/modes-wise-month-month-growth-various-digital-payment-modes-demonetization-during-2017\n",
    "\n",
    "- Customers availing LPG cash discount data\n",
    "https://data.gov.in/resources/stateut-wise-details-lpg-consumers-who-availed-cash-discount-making-digital-payment-during\n"
   ]
  }
 ],
 "metadata": {
  "hide_input": false,
  "kernelspec": {
   "display_name": "Python 3",
   "language": "python",
   "name": "python3"
  },
  "language_info": {
   "codemirror_mode": {
    "name": "ipython",
    "version": 3
   },
   "file_extension": ".py",
   "mimetype": "text/x-python",
   "name": "python",
   "nbconvert_exporter": "python",
   "pygments_lexer": "ipython3",
   "version": "3.8.6"
  },
  "varInspector": {
   "cols": {
    "lenName": 16,
    "lenType": 16,
    "lenVar": 40
   },
   "kernels_config": {
    "python": {
     "delete_cmd_postfix": "",
     "delete_cmd_prefix": "del ",
     "library": "var_list.py",
     "varRefreshCmd": "print(var_dic_list())"
    },
    "r": {
     "delete_cmd_postfix": ") ",
     "delete_cmd_prefix": "rm(",
     "library": "var_list.r",
     "varRefreshCmd": "cat(var_dic_list()) "
    }
   },
   "position": {
    "height": "144.517px",
    "left": "768.333px",
    "right": "20px",
    "top": "119px",
    "width": "350px"
   },
   "types_to_exclude": [
    "module",
    "function",
    "builtin_function_or_method",
    "instance",
    "_Feature"
   ],
   "window_display": false
  }
 },
 "nbformat": 4,
 "nbformat_minor": 4
}
